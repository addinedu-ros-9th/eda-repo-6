{
 "cells": [
  {
   "cell_type": "code",
   "execution_count": 4,
   "metadata": {},
   "outputs": [],
   "source": [
    "import requests as rq\n",
    "from io import BytesIO # 파일 시스템에 접근하지 않고 메모리 스트림 다루기 위함\n",
    "import pandas as pd\n",
    "import datetime\n",
    "import openpyxl\n",
    "from openpyxl.utils.dataframe import dataframe_to_rows\n",
    "import matplotlib.pyplot as plt\n",
    "import numpy as np"
   ]
  },
  {
   "cell_type": "code",
   "execution_count": 5,
   "metadata": {},
   "outputs": [],
   "source": [
    "# generate 헤더 요청 URL\n",
    "url = \"http://data.krx.co.kr/comm/fileDn/GenerateOTP/generate.cmd\"\n",
    "\n",
    "\n",
    "# generate 페이로드의 양식 데이터\n",
    "data = {\n",
    "    \"locale\": \"ko_KR\",\n",
    "    \"mktId\": \"ALL\",\n",
    "    \"share\": \"1\",\n",
    "    \"csvxls_isNo\": \"false\",\n",
    "    \"name\": \"fileDown\",\n",
    "    \"url\": \"dbms/MDC/STAT/standard/MDCSTAT01901\",\n",
    "}"
   ]
  },
  {
   "cell_type": "code",
   "execution_count": 2,
   "metadata": {},
   "outputs": [],
   "source": [
    "# 브라우저에서 서버로 보내는 헤더값\n",
    "# referer: 해당 요청이 어디에서 발생했는지 나타냄 (사이트로의 접근을 알림)\n",
    "# user-agent: 사용자 소프트웨어의 식별 정보 (Mozilla 정보/버전 + 운영체제 정보 + 렌더링 엔진 정보 + 브라우저)\n",
    "\n",
    "headers = {\n",
    "    \"Referer\": \"http://data.krx.co.kr/contents/MDC/MDI/mdiLoader/index.cmd?menuId=MDC0201020203\",\n",
    "    \"User-Agent\": \"Mozilla/5.0 (X11; Linux x86_64) AppleWebKit/537.36 (KHTML, like Gecko) Chrome/134.0.0.0 Safari/537.36\"\n",
    "}"
   ]
  },
  {
   "cell_type": "code",
   "execution_count": 6,
   "metadata": {},
   "outputs": [],
   "source": [
    "# generate 부분의 헤더에서 Referer과 User-Agent를 따올 수 있음 User-Agent는 모두 동일\n",
    "# KRX의 다른 정보를 따올 때는 Referer만 바꿔주기\n",
    "# download payload(요청데이터)와 동일해야함\n",
    "\n",
    "\n",
    "otp = rq.post(url=url, data=data, headers=headers).text"
   ]
  },
  {
   "cell_type": "code",
   "execution_count": 7,
   "metadata": {},
   "outputs": [
    {
     "data": {
      "text/plain": [
       "'F2LVFs8EecOpM4pyCPetde3KBrKKc5lsJ4ATVBLbMrsRtSksuLS7Bnxpl86F7dAOvXfGx9S2U5wgvoxsacATRRtmGtORI4WrGDmruVe6oXtCqUypoW0Lp6SAPP0PhVkgOwGaKVsza3ymVMgwlBIx7BdZx3Xdbl9EHo1GilYd0pGe4yGwVPeiBOlGGEQ9bQRlFGLLXSbn99Iqbwlo2NgpPaiWeIbl8DwUioxfGNE/Es0='"
      ]
     },
     "execution_count": 7,
     "metadata": {},
     "output_type": "execute_result"
    }
   ],
   "source": [
    "otp"
   ]
  },
  {
   "cell_type": "code",
   "execution_count": 8,
   "metadata": {},
   "outputs": [],
   "source": [
    "# download의 헤더 요청 URL\n",
    "down_url = \"http://data.krx.co.kr/comm/fileDn/download_csv/download.cmd\""
   ]
  },
  {
   "cell_type": "code",
   "execution_count": 9,
   "metadata": {},
   "outputs": [],
   "source": [
    "# 서버로부터 데이터 요청 후 읽어들이기\n",
    "down_sector = rq.post(url=down_url, data={\"code\": otp}, headers=headers)\n",
    "sectors = pd.read_csv(BytesIO(down_sector.content), encoding=\"EUC-KR\")"
   ]
  },
  {
   "cell_type": "code",
   "execution_count": 10,
   "metadata": {},
   "outputs": [
    {
     "data": {
      "text/plain": [
       "<Response [200]>"
      ]
     },
     "execution_count": 10,
     "metadata": {},
     "output_type": "execute_result"
    }
   ],
   "source": [
    "down_sector"
   ]
  },
  {
   "cell_type": "code",
   "execution_count": 11,
   "metadata": {},
   "outputs": [],
   "source": [
    "sectors.to_csv(\"../data/sectors.csv\")"
   ]
  },
  {
   "cell_type": "code",
   "execution_count": 12,
   "metadata": {},
   "outputs": [
    {
     "data": {
      "text/html": [
       "<div>\n",
       "<style scoped>\n",
       "    .dataframe tbody tr th:only-of-type {\n",
       "        vertical-align: middle;\n",
       "    }\n",
       "\n",
       "    .dataframe tbody tr th {\n",
       "        vertical-align: top;\n",
       "    }\n",
       "\n",
       "    .dataframe thead th {\n",
       "        text-align: right;\n",
       "    }\n",
       "</style>\n",
       "<table border=\"1\" class=\"dataframe\">\n",
       "  <thead>\n",
       "    <tr style=\"text-align: right;\">\n",
       "      <th></th>\n",
       "      <th>표준코드</th>\n",
       "      <th>단축코드</th>\n",
       "      <th>상장일</th>\n",
       "    </tr>\n",
       "  </thead>\n",
       "  <tbody>\n",
       "    <tr>\n",
       "      <th>88</th>\n",
       "      <td>KR7035420009</td>\n",
       "      <td>035420</td>\n",
       "      <td>2008/11/28</td>\n",
       "    </tr>\n",
       "  </tbody>\n",
       "</table>\n",
       "</div>"
      ],
      "text/plain": [
       "            표준코드    단축코드         상장일\n",
       "88  KR7035420009  035420  2008/11/28"
      ]
     },
     "execution_count": 12,
     "metadata": {},
     "output_type": "execute_result"
    }
   ],
   "source": [
    "test = sectors[sectors[\"한글 종목약명\"] == \"NAVER\"][[\"표준코드\", \"단축코드\", \"상장일\"]]\n",
    "test"
   ]
  },
  {
   "cell_type": "code",
   "execution_count": 13,
   "metadata": {},
   "outputs": [
    {
     "name": "stdout",
     "output_type": "stream",
     "text": [
      "표준코드:  KR7035420009\n",
      "단축코드:  035420\n",
      "상장일:  2008/11/28\n"
     ]
    }
   ],
   "source": [
    "if not test.empty:\n",
    "    print(\"표준코드: \", test.iloc[0].iloc[0])\n",
    "    print(\"단축코드: \", test.iloc[0].iloc[1])\n",
    "    print(\"상장일: \", test.iloc[0].iloc[2])\n",
    "else:\n",
    "    print(\"데이터를 찾을 수 없습니다.\")"
   ]
  },
  {
   "cell_type": "code",
   "execution_count": 14,
   "metadata": {},
   "outputs": [],
   "source": [
    "# 개별종목 시세 generate 헤더 요청 url 및 payload\n",
    "\n",
    "url_price = \"http://data.krx.co.kr/comm/fileDn/GenerateOTP/generate.cmd\"\n",
    "\n",
    "data_price = {\n",
    "    \"locale\": \"ko_KR\",\n",
    "    \"tboxisuCd_finder_stkisu0_1\": \"035420/NAVER\",\n",
    "    \"isuCd\": \"KR7035420009\",\n",
    "    \"isuCd2\": \"KR7005930003\",\n",
    "    \"codeNmisuCd_finder_stkisu0_1\": \"NAVER\",\n",
    "    \"param1isuCd_finder_stkisu0_1\": \"ALL\",\n",
    "    \"strtDd\": \"20200101\",\n",
    "    \"endDd\": \"20210101\",\n",
    "    \"adjStkPrc_check\": \"Y\",\n",
    "    \"adjStkPrc\": \"2\",\n",
    "    \"share\": \"1\",\n",
    "    \"money\": \"1\",\n",
    "    \"csvxls_isNo\": \"false\",\n",
    "    \"name\": \"fileDown\",\n",
    "    \"url\": \"dbms/MDC/STAT/standard/MDCSTAT01701\"\n",
    "}\n",
    "\n"
   ]
  },
  {
   "cell_type": "code",
   "execution_count": 15,
   "metadata": {},
   "outputs": [],
   "source": [
    "headers = {\n",
    "    \"Referer\": \"http://data.krx.co.kr/contents/MDC/MDI/mdiLoader/index.cmd?menuId=MDC0201020203\",\n",
    "    \"User-Agent\": \"Mozilla/5.0 (X11; Linux x86_64) AppleWebKit/537.36 (KHTML, like Gecko) Chrome/134.0.0.0 Safari/537.36\"\n",
    "}"
   ]
  },
  {
   "cell_type": "code",
   "execution_count": 16,
   "metadata": {},
   "outputs": [],
   "source": [
    "otp_indv = rq.post(url_price, data_price, headers=headers).text"
   ]
  },
  {
   "cell_type": "code",
   "execution_count": 17,
   "metadata": {},
   "outputs": [
    {
     "data": {
      "text/plain": [
       "'F2LVFs8EecOpM4pyCPetdRHuThqCXUYMRbKc8lY8svsRtSksuLS7Bnxpl86F7dAOLBmklqtj8Qc/gCYt5OWSaRSZjie/DPxx05OlpeBxa0zXaSw1MeBk8qJlXEbjT+XnqQqHQsSF0H9fPawXEmvvjLMub5G+g0E8gvOdHF129+Cje1kYPX67+oD6/THZQD4gdlpNK6rYJIRZb/Nt9ZIP9OhCG7Of9Z3j2/rtvm7SmJuKHJ810dsIiNQfI+uJ4SpQqOgmuo344IKdIwxxHl+rVvCdHdFoeeev8aRN4dHdujlalHu72lyxDYXYaWGC2xxTHzAu1fkGCuq6Bo+ljyzRNpMc2pNpI5LKDaZMb5/BXqnrGttv1GwkbNWQpIcp0/5Fa/x7ISGYz5gZ6ErIjbkbkdSVIg2L0o6BETZS477SgcnrGttv1GwkbNWQpIcp0/5F6fIoU1jRm80bRDavvHVkMgm/O6dJvHRUlMwCEZye2uY5oiOCdbtTFb4EBKnV1xmPz8UtQ0hG1i67LiEwWWwdo/bwxCgWsTpP6ZppsewRd3k5Rx1hezQSzRxyFk6LTKL0'"
      ]
     },
     "execution_count": 17,
     "metadata": {},
     "output_type": "execute_result"
    }
   ],
   "source": [
    "otp_indv"
   ]
  },
  {
   "cell_type": "code",
   "execution_count": 18,
   "metadata": {},
   "outputs": [],
   "source": [
    "indv_down_url = \"http://data.krx.co.kr/comm/fileDn/download_csv/download.cmd\"\n",
    "\n",
    "# 서버로부터 데이터 요청 후 읽어들이기\n",
    "indv_down = rq.post(url=indv_down_url, data={\"code\": otp_indv}, headers=headers)\n",
    "indv_price = pd.read_csv(BytesIO(indv_down.content), encoding=\"EUC-KR\")"
   ]
  },
  {
   "cell_type": "code",
   "execution_count": 19,
   "metadata": {},
   "outputs": [
    {
     "data": {
      "text/html": [
       "<div>\n",
       "<style scoped>\n",
       "    .dataframe tbody tr th:only-of-type {\n",
       "        vertical-align: middle;\n",
       "    }\n",
       "\n",
       "    .dataframe tbody tr th {\n",
       "        vertical-align: top;\n",
       "    }\n",
       "\n",
       "    .dataframe thead th {\n",
       "        text-align: right;\n",
       "    }\n",
       "</style>\n",
       "<table border=\"1\" class=\"dataframe\">\n",
       "  <thead>\n",
       "    <tr style=\"text-align: right;\">\n",
       "      <th></th>\n",
       "      <th>일자</th>\n",
       "      <th>종가</th>\n",
       "      <th>대비</th>\n",
       "      <th>등락률</th>\n",
       "      <th>시가</th>\n",
       "      <th>고가</th>\n",
       "      <th>저가</th>\n",
       "      <th>거래량</th>\n",
       "      <th>거래대금</th>\n",
       "      <th>시가총액</th>\n",
       "      <th>상장주식수</th>\n",
       "    </tr>\n",
       "  </thead>\n",
       "  <tbody>\n",
       "    <tr>\n",
       "      <th>0</th>\n",
       "      <td>2020/12/30</td>\n",
       "      <td>292500</td>\n",
       "      <td>9500</td>\n",
       "      <td>3.36</td>\n",
       "      <td>285000</td>\n",
       "      <td>293000</td>\n",
       "      <td>284000</td>\n",
       "      <td>1190327</td>\n",
       "      <td>345787662000</td>\n",
       "      <td>48047043037500</td>\n",
       "      <td>164263395</td>\n",
       "    </tr>\n",
       "    <tr>\n",
       "      <th>1</th>\n",
       "      <td>2020/12/29</td>\n",
       "      <td>283000</td>\n",
       "      <td>2000</td>\n",
       "      <td>0.71</td>\n",
       "      <td>281500</td>\n",
       "      <td>285000</td>\n",
       "      <td>280500</td>\n",
       "      <td>506090</td>\n",
       "      <td>142909061500</td>\n",
       "      <td>46486540785000</td>\n",
       "      <td>164263395</td>\n",
       "    </tr>\n",
       "    <tr>\n",
       "      <th>2</th>\n",
       "      <td>2020/12/28</td>\n",
       "      <td>281000</td>\n",
       "      <td>-1000</td>\n",
       "      <td>-0.35</td>\n",
       "      <td>282000</td>\n",
       "      <td>282500</td>\n",
       "      <td>280000</td>\n",
       "      <td>537848</td>\n",
       "      <td>151110988500</td>\n",
       "      <td>46158013995000</td>\n",
       "      <td>164263395</td>\n",
       "    </tr>\n",
       "    <tr>\n",
       "      <th>3</th>\n",
       "      <td>2020/12/24</td>\n",
       "      <td>282000</td>\n",
       "      <td>-2000</td>\n",
       "      <td>-0.70</td>\n",
       "      <td>284500</td>\n",
       "      <td>284500</td>\n",
       "      <td>280000</td>\n",
       "      <td>453095</td>\n",
       "      <td>127855006000</td>\n",
       "      <td>46322277390000</td>\n",
       "      <td>164263395</td>\n",
       "    </tr>\n",
       "    <tr>\n",
       "      <th>4</th>\n",
       "      <td>2020/12/23</td>\n",
       "      <td>284000</td>\n",
       "      <td>0</td>\n",
       "      <td>0.00</td>\n",
       "      <td>288500</td>\n",
       "      <td>289000</td>\n",
       "      <td>283000</td>\n",
       "      <td>508019</td>\n",
       "      <td>144709809500</td>\n",
       "      <td>46650804180000</td>\n",
       "      <td>164263395</td>\n",
       "    </tr>\n",
       "  </tbody>\n",
       "</table>\n",
       "</div>"
      ],
      "text/plain": [
       "           일자      종가    대비   등락률      시가      고가      저가      거래량  \\\n",
       "0  2020/12/30  292500  9500  3.36  285000  293000  284000  1190327   \n",
       "1  2020/12/29  283000  2000  0.71  281500  285000  280500   506090   \n",
       "2  2020/12/28  281000 -1000 -0.35  282000  282500  280000   537848   \n",
       "3  2020/12/24  282000 -2000 -0.70  284500  284500  280000   453095   \n",
       "4  2020/12/23  284000     0  0.00  288500  289000  283000   508019   \n",
       "\n",
       "           거래대금            시가총액      상장주식수  \n",
       "0  345787662000  48047043037500  164263395  \n",
       "1  142909061500  46486540785000  164263395  \n",
       "2  151110988500  46158013995000  164263395  \n",
       "3  127855006000  46322277390000  164263395  \n",
       "4  144709809500  46650804180000  164263395  "
      ]
     },
     "execution_count": 19,
     "metadata": {},
     "output_type": "execute_result"
    }
   ],
   "source": [
    "indv_price.head()"
   ]
  },
  {
   "cell_type": "code",
   "execution_count": 22,
   "metadata": {},
   "outputs": [
    {
     "data": {
      "text/html": [
       "<div>\n",
       "<style scoped>\n",
       "    .dataframe tbody tr th:only-of-type {\n",
       "        vertical-align: middle;\n",
       "    }\n",
       "\n",
       "    .dataframe tbody tr th {\n",
       "        vertical-align: top;\n",
       "    }\n",
       "\n",
       "    .dataframe thead th {\n",
       "        text-align: right;\n",
       "    }\n",
       "</style>\n",
       "<table border=\"1\" class=\"dataframe\">\n",
       "  <thead>\n",
       "    <tr style=\"text-align: right;\">\n",
       "      <th></th>\n",
       "      <th>일자</th>\n",
       "      <th>종가</th>\n",
       "      <th>대비</th>\n",
       "      <th>등락률</th>\n",
       "      <th>시가</th>\n",
       "      <th>고가</th>\n",
       "      <th>저가</th>\n",
       "      <th>거래량</th>\n",
       "      <th>거래대금</th>\n",
       "      <th>시가총액</th>\n",
       "      <th>상장주식수</th>\n",
       "    </tr>\n",
       "  </thead>\n",
       "  <tbody>\n",
       "    <tr>\n",
       "      <th>243</th>\n",
       "      <td>2020/01/08</td>\n",
       "      <td>183000</td>\n",
       "      <td>-4000</td>\n",
       "      <td>-2.14</td>\n",
       "      <td>182000</td>\n",
       "      <td>183500</td>\n",
       "      <td>179000</td>\n",
       "      <td>820867</td>\n",
       "      <td>149007274500</td>\n",
       "      <td>30160851285000</td>\n",
       "      <td>164813395</td>\n",
       "    </tr>\n",
       "    <tr>\n",
       "      <th>244</th>\n",
       "      <td>2020/01/07</td>\n",
       "      <td>187000</td>\n",
       "      <td>6500</td>\n",
       "      <td>3.60</td>\n",
       "      <td>182500</td>\n",
       "      <td>187000</td>\n",
       "      <td>181500</td>\n",
       "      <td>328624</td>\n",
       "      <td>60938161000</td>\n",
       "      <td>30820104865000</td>\n",
       "      <td>164813395</td>\n",
       "    </tr>\n",
       "    <tr>\n",
       "      <th>245</th>\n",
       "      <td>2020/01/06</td>\n",
       "      <td>180500</td>\n",
       "      <td>-1000</td>\n",
       "      <td>-0.55</td>\n",
       "      <td>180000</td>\n",
       "      <td>182000</td>\n",
       "      <td>178000</td>\n",
       "      <td>287970</td>\n",
       "      <td>51850594000</td>\n",
       "      <td>29748817797500</td>\n",
       "      <td>164813395</td>\n",
       "    </tr>\n",
       "    <tr>\n",
       "      <th>246</th>\n",
       "      <td>2020/01/03</td>\n",
       "      <td>181500</td>\n",
       "      <td>-1000</td>\n",
       "      <td>-0.55</td>\n",
       "      <td>185000</td>\n",
       "      <td>186000</td>\n",
       "      <td>180500</td>\n",
       "      <td>454492</td>\n",
       "      <td>82879082000</td>\n",
       "      <td>29913631192500</td>\n",
       "      <td>164813395</td>\n",
       "    </tr>\n",
       "    <tr>\n",
       "      <th>247</th>\n",
       "      <td>2020/01/02</td>\n",
       "      <td>182500</td>\n",
       "      <td>-4000</td>\n",
       "      <td>-2.14</td>\n",
       "      <td>187500</td>\n",
       "      <td>188000</td>\n",
       "      <td>182000</td>\n",
       "      <td>300640</td>\n",
       "      <td>55309555500</td>\n",
       "      <td>30078444587500</td>\n",
       "      <td>164813395</td>\n",
       "    </tr>\n",
       "  </tbody>\n",
       "</table>\n",
       "</div>"
      ],
      "text/plain": [
       "             일자      종가    대비   등락률      시가      고가      저가     거래량  \\\n",
       "243  2020/01/08  183000 -4000 -2.14  182000  183500  179000  820867   \n",
       "244  2020/01/07  187000  6500  3.60  182500  187000  181500  328624   \n",
       "245  2020/01/06  180500 -1000 -0.55  180000  182000  178000  287970   \n",
       "246  2020/01/03  181500 -1000 -0.55  185000  186000  180500  454492   \n",
       "247  2020/01/02  182500 -4000 -2.14  187500  188000  182000  300640   \n",
       "\n",
       "             거래대금            시가총액      상장주식수  \n",
       "243  149007274500  30160851285000  164813395  \n",
       "244   60938161000  30820104865000  164813395  \n",
       "245   51850594000  29748817797500  164813395  \n",
       "246   82879082000  29913631192500  164813395  \n",
       "247   55309555500  30078444587500  164813395  "
      ]
     },
     "execution_count": 22,
     "metadata": {},
     "output_type": "execute_result"
    }
   ],
   "source": [
    "indv_price.tail()"
   ]
  },
  {
   "cell_type": "code",
   "execution_count": 24,
   "metadata": {},
   "outputs": [],
   "source": [
    "indv_price.sort_values(by=\"일자\", ascending=True)\n",
    "indv_price.to_csv(\"../data/stocks/nav_years.csv\")"
   ]
  },
  {
   "cell_type": "code",
   "execution_count": 40,
   "metadata": {},
   "outputs": [
    {
     "ename": "KeyboardInterrupt",
     "evalue": "Interrupted by user",
     "output_type": "error",
     "traceback": [
      "\u001b[0;31m---------------------------------------------------------------------------\u001b[0m",
      "\u001b[0;31mKeyboardInterrupt\u001b[0m                         Traceback (most recent call last)",
      "Cell \u001b[0;32mIn[40], line 4\u001b[0m\n\u001b[1;32m      2\u001b[0m stock_list \u001b[38;5;241m=\u001b[39m []\n\u001b[1;32m      3\u001b[0m \u001b[38;5;28;01mwhile\u001b[39;00m \u001b[38;5;28;01mTrue\u001b[39;00m:\n\u001b[0;32m----> 4\u001b[0m     stock \u001b[38;5;241m=\u001b[39m \u001b[38;5;28;43minput\u001b[39;49m\u001b[43m(\u001b[49m\u001b[38;5;124;43m\"\u001b[39;49m\u001b[38;5;124;43m종목 입력(종료하시려면 \u001b[39;49m\u001b[38;5;124;43m'\u001b[39;49m\u001b[38;5;124;43m종료\u001b[39;49m\u001b[38;5;124;43m'\u001b[39;49m\u001b[38;5;124;43m 입력): \u001b[39;49m\u001b[38;5;124;43m\"\u001b[39;49m\u001b[43m)\u001b[49m\n\u001b[1;32m      5\u001b[0m     stock_list\u001b[38;5;241m.\u001b[39mappend(stock)\n\u001b[1;32m      6\u001b[0m     \u001b[38;5;28;01mif\u001b[39;00m stock \u001b[38;5;241m==\u001b[39m \u001b[38;5;124m\"\u001b[39m\u001b[38;5;124m종료\u001b[39m\u001b[38;5;124m\"\u001b[39m:\n",
      "File \u001b[0;32m~/venv/eda_venv/lib/python3.10/site-packages/ipykernel/kernelbase.py:1282\u001b[0m, in \u001b[0;36mKernel.raw_input\u001b[0;34m(self, prompt)\u001b[0m\n\u001b[1;32m   1280\u001b[0m     msg \u001b[38;5;241m=\u001b[39m \u001b[38;5;124m\"\u001b[39m\u001b[38;5;124mraw_input was called, but this frontend does not support input requests.\u001b[39m\u001b[38;5;124m\"\u001b[39m\n\u001b[1;32m   1281\u001b[0m     \u001b[38;5;28;01mraise\u001b[39;00m StdinNotImplementedError(msg)\n\u001b[0;32m-> 1282\u001b[0m \u001b[38;5;28;01mreturn\u001b[39;00m \u001b[38;5;28;43mself\u001b[39;49m\u001b[38;5;241;43m.\u001b[39;49m\u001b[43m_input_request\u001b[49m\u001b[43m(\u001b[49m\n\u001b[1;32m   1283\u001b[0m \u001b[43m    \u001b[49m\u001b[38;5;28;43mstr\u001b[39;49m\u001b[43m(\u001b[49m\u001b[43mprompt\u001b[49m\u001b[43m)\u001b[49m\u001b[43m,\u001b[49m\n\u001b[1;32m   1284\u001b[0m \u001b[43m    \u001b[49m\u001b[38;5;28;43mself\u001b[39;49m\u001b[38;5;241;43m.\u001b[39;49m\u001b[43m_parent_ident\u001b[49m\u001b[43m[\u001b[49m\u001b[38;5;124;43m\"\u001b[39;49m\u001b[38;5;124;43mshell\u001b[39;49m\u001b[38;5;124;43m\"\u001b[39;49m\u001b[43m]\u001b[49m\u001b[43m,\u001b[49m\n\u001b[1;32m   1285\u001b[0m \u001b[43m    \u001b[49m\u001b[38;5;28;43mself\u001b[39;49m\u001b[38;5;241;43m.\u001b[39;49m\u001b[43mget_parent\u001b[49m\u001b[43m(\u001b[49m\u001b[38;5;124;43m\"\u001b[39;49m\u001b[38;5;124;43mshell\u001b[39;49m\u001b[38;5;124;43m\"\u001b[39;49m\u001b[43m)\u001b[49m\u001b[43m,\u001b[49m\n\u001b[1;32m   1286\u001b[0m \u001b[43m    \u001b[49m\u001b[43mpassword\u001b[49m\u001b[38;5;241;43m=\u001b[39;49m\u001b[38;5;28;43;01mFalse\u001b[39;49;00m\u001b[43m,\u001b[49m\n\u001b[1;32m   1287\u001b[0m \u001b[43m\u001b[49m\u001b[43m)\u001b[49m\n",
      "File \u001b[0;32m~/venv/eda_venv/lib/python3.10/site-packages/ipykernel/kernelbase.py:1325\u001b[0m, in \u001b[0;36mKernel._input_request\u001b[0;34m(self, prompt, ident, parent, password)\u001b[0m\n\u001b[1;32m   1322\u001b[0m \u001b[38;5;28;01mexcept\u001b[39;00m \u001b[38;5;167;01mKeyboardInterrupt\u001b[39;00m:\n\u001b[1;32m   1323\u001b[0m     \u001b[38;5;66;03m# re-raise KeyboardInterrupt, to truncate traceback\u001b[39;00m\n\u001b[1;32m   1324\u001b[0m     msg \u001b[38;5;241m=\u001b[39m \u001b[38;5;124m\"\u001b[39m\u001b[38;5;124mInterrupted by user\u001b[39m\u001b[38;5;124m\"\u001b[39m\n\u001b[0;32m-> 1325\u001b[0m     \u001b[38;5;28;01mraise\u001b[39;00m \u001b[38;5;167;01mKeyboardInterrupt\u001b[39;00m(msg) \u001b[38;5;28;01mfrom\u001b[39;00m\u001b[38;5;250m \u001b[39m\u001b[38;5;28;01mNone\u001b[39;00m\n\u001b[1;32m   1326\u001b[0m \u001b[38;5;28;01mexcept\u001b[39;00m \u001b[38;5;167;01mException\u001b[39;00m:\n\u001b[1;32m   1327\u001b[0m     \u001b[38;5;28mself\u001b[39m\u001b[38;5;241m.\u001b[39mlog\u001b[38;5;241m.\u001b[39mwarning(\u001b[38;5;124m\"\u001b[39m\u001b[38;5;124mInvalid Message:\u001b[39m\u001b[38;5;124m\"\u001b[39m, exc_info\u001b[38;5;241m=\u001b[39m\u001b[38;5;28;01mTrue\u001b[39;00m)\n",
      "\u001b[0;31mKeyboardInterrupt\u001b[0m: Interrupted by user"
     ]
    }
   ],
   "source": [
    "# 원하는 종목명 입력\n",
    "stock_list = []\n",
    "while True:\n",
    "    stock = input(\"종목 입력(종료하시려면 '종료' 입력): \")\n",
    "    stock_list.append(stock)\n",
    "    if stock == \"종료\":\n",
    "        stock_list.pop(-1)\n",
    "        break\n",
    "\n",
    "#종목코드 추출\n",
    "std = []\n",
    "abbr = []\n",
    "day = []\n",
    "for i in range(len(stock_list)):\n",
    "    sector = sectors[sectors['한글 종목약명'] == stock_list[i]][['표준코드', '단축코드', '상장일']]\n",
    "    if not sector.empty:\n",
    "        std.append(sector.iloc[0].iloc[0])\n",
    "        abbr.append(sector.iloc[0].iloc[1])\n",
    "        day.append(sector.iloc[0].iloc[2])\n",
    "    else:\n",
    "        print(\"데이터를 찾을 수 없습니다.\")\n",
    "\n",
    "\n",
    "stock_list, std, abbr, day"
   ]
  },
  {
   "cell_type": "code",
   "execution_count": null,
   "metadata": {},
   "outputs": [
    {
     "name": "stdout",
     "output_type": "stream",
     "text": [
      "종목: 삼성전자\n",
      "입력예시: 20201230\n",
      "최소 시작 날짜: 1975/06/11\n",
      "종목: 에코프로\n",
      "입력예시: 20201230\n",
      "최소 시작 날짜: 2007/07/20\n",
      "종목: 전진건설로봇\n",
      "입력예시: 20201230\n",
      "최소 시작 날짜: 2024/08/19\n",
      "종목: 쏠리드\n",
      "입력예시: 20201230\n",
      "최소 시작 날짜: 2005/07/08\n"
     ]
    }
   ],
   "source": [
    "for i in range(len(stock_list)):\n",
    "\n",
    "    print(f'종목: {stock_list[i]}')\n",
    "    print(f\"입력예시: 20201230\\n최소 시작 날짜: {day[i]}\")\n",
    "\n",
    "    date_1 = input(f\"조회 시작일: \")\n",
    "    date_2 = input(f\"조회 종료일: \")\n",
    "\n",
    "\n",
    "    url_price = \"http://data.krx.co.kr/comm/fileDn/GenerateOTP/generate.cmd\"\n",
    "\n",
    "    data_price = {\n",
    "        \"locale\": \"ko_KR\",\n",
    "        \"tboxisuCd_finder_stkisu0_1\": f\"{abbr[i]}/{stock_list[i]}\",\n",
    "        \"isuCd\": std[i],\n",
    "        \"isuCd2\": \"KR7005930003\",\n",
    "        \"codeNmisuCd_finder_stkisu0_1\": stock_list[i],\n",
    "        \"param1isuCd_finder_stkisu0_1\": \"ALL\",\n",
    "        \"strtDd\": date_1,\n",
    "        \"endDd\": date_2,\n",
    "        \"adjStkPrc_check\": \"Y\",\n",
    "        \"adjStkPrc\": \"2\",\n",
    "        \"share\": \"1\",\n",
    "        \"money\": \"1\",\n",
    "        \"csvxls_isNo\": \"false\",\n",
    "        \"name\": \"fileDown\",\n",
    "        \"url\": \"dbms/MDC/STAT/standard/MDCSTAT01701\"\n",
    "    }\n",
    "\n",
    "    headers = {\n",
    "    \"Referer\": \"http://data.krx.co.kr/contents/MDC/MDI/mdiLoader/index.cmd?menuId=MDC0201020203\",\n",
    "    \"User-Agent\": \"Mozilla/5.0 (X11; Linux x86_64) AppleWebKit/537.36 (KHTML, like Gecko) Chrome/134.0.0.0 Safari/537.36\"\n",
    "    }\n",
    "\n",
    "    otp_indv = rq.post(url_price, data_price, headers=headers).text\n",
    "\n",
    "    indv_down_url = \"http://data.krx.co.kr/comm/fileDn/download_csv/download.cmd\"\n",
    "\n",
    "    indv_down = rq.post(url=indv_down_url, data={\"code\": otp_indv}, headers=headers)\n",
    "    indv_price = pd.read_csv(BytesIO(indv_down.content), encoding=\"EUC-KR\").sort_values(by=\"일자\", ascending=True)\n",
    "    \n",
    "\n",
    "    indv_price.to_csv(f\"../data/stocks/{stock_list[i]}.csv\")"
   ]
  },
  {
   "cell_type": "code",
   "execution_count": null,
   "metadata": {},
   "outputs": [],
   "source": []
  }
 ],
 "metadata": {
  "kernelspec": {
   "display_name": "eda_venv",
   "language": "python",
   "name": "python3"
  },
  "language_info": {
   "codemirror_mode": {
    "name": "ipython",
    "version": 3
   },
   "file_extension": ".py",
   "mimetype": "text/x-python",
   "name": "python",
   "nbconvert_exporter": "python",
   "pygments_lexer": "ipython3",
   "version": "3.10.12"
  }
 },
 "nbformat": 4,
 "nbformat_minor": 2
}
